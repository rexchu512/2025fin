{
 "cells": [
  {
   "cell_type": "code",
   "execution_count": 5,
   "id": "0659ea75",
   "metadata": {},
   "outputs": [
    {
     "name": "stderr",
     "output_type": "stream",
     "text": [
      "ERROR: pip's dependency resolver does not currently take into account all the packages that are installed. This behaviour is the source of the following dependency conflicts.\n",
      "anaconda-project 0.11.1 requires ruamel-yaml, which is not installed.\n",
      "conda-repo-cli 1.0.20 requires clyent==1.2.1, but you have clyent 1.2.2 which is incompatible.\n",
      "conda-repo-cli 1.0.20 requires nbformat==5.4.0, but you have nbformat 5.5.0 which is incompatible.\n",
      "conda-repo-cli 1.0.20 requires requests==2.28.1, but you have requests 2.32.3 which is incompatible.\n"
     ]
    },
    {
     "name": "stdout",
     "output_type": "stream",
     "text": [
      "Collecting yfinance\n",
      "  Downloading yfinance-0.2.55-py2.py3-none-any.whl (109 kB)\n",
      "     -------------------------------------- 109.8/109.8 kB 1.6 MB/s eta 0:00:00\n",
      "Requirement already satisfied: pandas>=1.3.0 in c:\\users\\user\\anaconda3\\lib\\site-packages (from yfinance) (1.4.4)\n",
      "Collecting frozendict>=2.3.4\n",
      "  Downloading frozendict-2.4.6-cp39-cp39-win_amd64.whl (37 kB)\n",
      "Collecting pytz>=2022.5\n",
      "  Downloading pytz-2025.2-py2.py3-none-any.whl (509 kB)\n",
      "     -------------------------------------- 509.2/509.2 kB 5.4 MB/s eta 0:00:00\n",
      "Requirement already satisfied: beautifulsoup4>=4.11.1 in c:\\users\\user\\anaconda3\\lib\\site-packages (from yfinance) (4.11.1)\n",
      "Requirement already satisfied: platformdirs>=2.0.0 in c:\\users\\user\\anaconda3\\lib\\site-packages (from yfinance) (2.5.2)\n",
      "Requirement already satisfied: numpy>=1.16.5 in c:\\users\\user\\anaconda3\\lib\\site-packages (from yfinance) (1.24.4)\n",
      "Collecting requests>=2.31\n",
      "  Downloading requests-2.32.3-py3-none-any.whl (64 kB)\n",
      "     ---------------------------------------- 64.9/64.9 kB ? eta 0:00:00\n",
      "Collecting multitasking>=0.0.7\n",
      "  Downloading multitasking-0.0.11-py3-none-any.whl (8.5 kB)\n",
      "Requirement already satisfied: peewee>=3.16.2 in c:\\users\\user\\anaconda3\\lib\\site-packages (from yfinance) (3.17.3)\n",
      "Requirement already satisfied: soupsieve>1.2 in c:\\users\\user\\anaconda3\\lib\\site-packages (from beautifulsoup4>=4.11.1->yfinance) (2.3.1)\n",
      "Requirement already satisfied: python-dateutil>=2.8.1 in c:\\users\\user\\anaconda3\\lib\\site-packages (from pandas>=1.3.0->yfinance) (2.8.2)\n",
      "Requirement already satisfied: certifi>=2017.4.17 in c:\\users\\user\\anaconda3\\lib\\site-packages (from requests>=2.31->yfinance) (2022.9.14)\n",
      "Requirement already satisfied: charset-normalizer<4,>=2 in c:\\users\\user\\anaconda3\\lib\\site-packages (from requests>=2.31->yfinance) (2.0.4)\n",
      "Requirement already satisfied: urllib3<3,>=1.21.1 in c:\\users\\user\\anaconda3\\lib\\site-packages (from requests>=2.31->yfinance) (1.26.11)\n",
      "Requirement already satisfied: idna<4,>=2.5 in c:\\users\\user\\anaconda3\\lib\\site-packages (from requests>=2.31->yfinance) (3.3)\n",
      "Requirement already satisfied: six>=1.5 in c:\\users\\user\\anaconda3\\lib\\site-packages (from python-dateutil>=2.8.1->pandas>=1.3.0->yfinance) (1.16.0)\n",
      "Installing collected packages: pytz, multitasking, requests, frozendict, yfinance\n",
      "  Attempting uninstall: pytz\n",
      "    Found existing installation: pytz 2022.1\n",
      "    Uninstalling pytz-2022.1:\n",
      "      Successfully uninstalled pytz-2022.1\n",
      "  Attempting uninstall: requests\n",
      "    Found existing installation: requests 2.28.1\n",
      "    Uninstalling requests-2.28.1:\n",
      "      Successfully uninstalled requests-2.28.1\n",
      "Successfully installed frozendict-2.4.6 multitasking-0.0.11 pytz-2025.2 requests-2.32.3 yfinance-0.2.55\n"
     ]
    }
   ],
   "source": [
    "!pip install yfinance\n",
    "\n"
   ]
  },
  {
   "cell_type": "code",
   "execution_count": 6,
   "id": "79075305",
   "metadata": {},
   "outputs": [
    {
     "name": "stdout",
     "output_type": "stream",
     "text": [
      "YF.download() has changed argument auto_adjust default to True\n"
     ]
    },
    {
     "name": "stderr",
     "output_type": "stream",
     "text": [
      "[*********************100%***********************]  1 of 1 completed"
     ]
    },
    {
     "name": "stdout",
     "output_type": "stream",
     "text": [
      "Price        Close    High     Low    Open    Volume\n",
      "Ticker     2357.TW 2357.TW 2357.TW 2357.TW   2357.TW\n",
      "Date                                                \n",
      "2025-01-02   605.0   635.0   602.0   616.0   4272343\n",
      "2025-01-03   623.0   628.0   613.0   613.0   4417487\n",
      "2025-01-06   629.0   632.0   618.0   630.0   3415048\n",
      "2025-01-07   648.0   648.0   628.0   631.0   5048617\n",
      "2025-01-08   646.0   660.0   642.0   647.0   4479379\n",
      "2025-01-09   633.0   648.0   633.0   645.0   2687719\n",
      "2025-01-10   626.0   632.0   623.0   630.0   2848153\n",
      "2025-01-13   609.0   626.0   605.0   626.0   4251598\n",
      "2025-01-14   608.0   611.0   605.0   608.0   2979547\n",
      "2025-01-15   591.0   610.0   591.0   606.0   3701858\n",
      "2025-01-16   600.0   607.0   598.0   600.0   2214100\n",
      "2025-01-17   600.0   605.0   596.0   601.0   1715303\n",
      "2025-01-20   610.0   613.0   601.0   602.0   2002227\n",
      "2025-01-21   599.0   613.0   598.0   613.0   2713858\n",
      "2025-01-22   607.0   613.0   602.0   602.0   2288749\n",
      "2025-02-03   649.0   655.0   598.0   600.0  11369971\n",
      "2025-02-04   647.0   661.0   644.0   644.0   6216398\n",
      "2025-02-05   657.0   661.0   643.0   645.0   4797652\n",
      "2025-02-06   652.0   661.0   645.0   660.0   3079099\n",
      "2025-02-07   665.0   665.0   649.0   649.0   3622448\n",
      "2025-02-10   669.0   675.0   659.0   660.0   3265259\n",
      "2025-02-11   665.0   669.0   658.0   662.0   2393352\n",
      "2025-02-12   675.0   684.0   668.0   672.0   3220763\n",
      "2025-02-13   679.0   685.0   674.0   680.0   1751764\n",
      "2025-02-14   678.0   682.0   671.0   677.0   2154241\n",
      "2025-02-17   681.0   683.0   675.0   675.0   1645403\n",
      "2025-02-18   698.0   702.0   682.0   685.0   3789583\n",
      "2025-02-19   691.0   702.0   688.0   700.0   3242084\n",
      "2025-02-20   693.0   704.0   689.0   689.0   2977277\n",
      "2025-02-21   709.0   713.0   696.0   697.0   3660080\n",
      "2025-02-24   698.0   715.0   696.0   707.0   1909604\n",
      "2025-02-25   691.0   704.0   685.0   693.0   3282215\n",
      "2025-02-26   698.0   700.0   685.0   690.0   3039511\n",
      "2025-02-27   682.0   697.0   677.0   697.0   4607625\n",
      "2025-03-03   669.0   683.0   666.0   670.0   3327810\n",
      "2025-03-04   670.0   673.0   657.0   661.0   3295556\n",
      "2025-03-05   678.0   682.0   671.0   672.0   2033172\n",
      "2025-03-06   674.0   684.0   674.0   676.0   1703279\n",
      "2025-03-07   659.0   675.0   659.0   670.0   2557926\n",
      "2025-03-10   654.0   664.0   651.0   658.0   3134579\n",
      "2025-03-11   654.0   661.0   639.0   644.0   3456332\n",
      "2025-03-12   600.0   621.0   595.0   600.0  19490475\n",
      "2025-03-13   608.0   627.0   607.0   611.0   7679028\n",
      "2025-03-14   608.0   614.0   605.0   614.0   3878234\n",
      "2025-03-17   624.0   626.0   610.0   613.0   4420471\n",
      "2025-03-18   656.0   656.0   630.0   630.0   8499406\n",
      "2025-03-19   645.0   655.0   644.0   650.0   4361949\n",
      "2025-03-20   650.0   660.0   646.0   650.0   4793344\n",
      "2025-03-21   650.0   654.0   643.0   650.0   5531640\n",
      "2025-03-24   631.0   655.0   631.0   655.0   3252008\n",
      "2025-03-25   631.0   641.0   625.0   637.0   4561529\n",
      "2025-03-26   645.0   662.0   643.0   660.0   6193435\n",
      "2025-03-27   640.0   644.0   628.0   633.0   4673107\n",
      "2025-03-28   642.0   645.0   634.0   635.0   3010422\n"
     ]
    },
    {
     "name": "stderr",
     "output_type": "stream",
     "text": [
      "\n"
     ]
    }
   ],
   "source": [
    "!pip install yfinance\n",
    "\n",
    "import yfinance as yf\n",
    "\n",
    "# 抓華碩資料（Yahoo代碼 2357.TW）\n",
    "asus = yf.download(\"2357.TW\", start=\"2025-01-01\", end=\"2025-03-31\")\n",
    "print(asus)\n"
   ]
  },
  {
   "cell_type": "code",
   "execution_count": null,
   "id": "158b1649",
   "metadata": {},
   "outputs": [],
   "source": []
  }
 ],
 "metadata": {
  "kernelspec": {
   "display_name": "Python 3 (ipykernel)",
   "language": "python",
   "name": "python3"
  },
  "language_info": {
   "codemirror_mode": {
    "name": "ipython",
    "version": 3
   },
   "file_extension": ".py",
   "mimetype": "text/x-python",
   "name": "python",
   "nbconvert_exporter": "python",
   "pygments_lexer": "ipython3",
   "version": "3.9.13"
  }
 },
 "nbformat": 4,
 "nbformat_minor": 5
}
