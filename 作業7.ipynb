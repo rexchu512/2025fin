{
 "cells": [
  {
   "cell_type": "code",
   "execution_count": 1,
   "id": "324f7236",
   "metadata": {},
   "outputs": [],
   "source": [
    "def fibonacci(n):\n",
    "    if n <= 0:\n",
    "        print(\"請輸入大於 0 的正整數\")\n",
    "        return\n",
    "    \n",
    "    fib_seq = [1, 1]\n",
    "    \n",
    "    for i in range(2, n):\n",
    "        fib_seq.append(fib_seq[-1] + fib_seq[-2])\n",
    "    \n",
    "    # 只保留到第 n 個\n",
    "    fib_seq = fib_seq[:n]\n",
    "    \n",
    "    # 計算比值（從第二個數開始與前一項相除）\n",
    "    ratios = []\n",
    "    for i in range(1, len(fib_seq)):\n",
    "        ratio = fib_seq[i] / fib_seq[i-1]\n",
    "        ratios.append(round(ratio, 3))  # 四捨五入到小數點第 3 位\n",
    "    \n",
    "    # 輸出\n",
    "    print(\"Fibonacci 數列到第\", n, \"個數值：\")\n",
    "    print(fib_seq)\n",
    "    print(\"相鄰兩數的比值：\")\n",
    "    print(ratios)\n"
   ]
  },
  {
   "cell_type": "code",
   "execution_count": 2,
   "id": "0e638512",
   "metadata": {},
   "outputs": [
    {
     "name": "stdout",
     "output_type": "stream",
     "text": [
      "Fibonacci 數列到第 5 個數值：\n",
      "[1, 1, 2, 3, 5]\n",
      "相鄰兩數的比值：\n",
      "[1.0, 2.0, 1.5, 1.667]\n"
     ]
    }
   ],
   "source": [
    "fibonacci(5)\n",
    "\n"
   ]
  },
  {
   "cell_type": "code",
   "execution_count": null,
   "id": "ade7c45b",
   "metadata": {},
   "outputs": [],
   "source": []
  }
 ],
 "metadata": {
  "kernelspec": {
   "display_name": "Python 3 (ipykernel)",
   "language": "python",
   "name": "python3"
  },
  "language_info": {
   "codemirror_mode": {
    "name": "ipython",
    "version": 3
   },
   "file_extension": ".py",
   "mimetype": "text/x-python",
   "name": "python",
   "nbconvert_exporter": "python",
   "pygments_lexer": "ipython3",
   "version": "3.9.13"
  }
 },
 "nbformat": 4,
 "nbformat_minor": 5
}
